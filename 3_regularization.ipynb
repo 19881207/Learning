{
 "cells": [
  {
   "cell_type": "markdown",
   "metadata": {
    "colab_type": "text",
    "id": "kR-4eNdK6lYS"
   },
   "source": [
    "Deep Learning\n",
    "=============\n",
    "\n",
    "Assignment 3\n",
    "------------\n",
    "\n",
    "Previously in `2_fullyconnected.ipynb`, you trained a logistic regression and a neural network model.\n",
    "\n",
    "The goal of this assignment is to explore regularization techniques."
   ]
  },
  {
   "cell_type": "code",
   "execution_count": 1,
   "metadata": {
    "cellView": "both",
    "colab": {
     "autoexec": {
      "startup": false,
      "wait_interval": 0
     }
    },
    "colab_type": "code",
    "id": "JLpLa8Jt7Vu4"
   },
   "outputs": [
    {
     "name": "stderr",
     "output_type": "stream",
     "text": [
      "C:\\Users\\o.ivashkin\\Anaconda3\\lib\\site-packages\\h5py\\__init__.py:36: FutureWarning: Conversion of the second argument of issubdtype from `float` to `np.floating` is deprecated. In future, it will be treated as `np.float64 == np.dtype(float).type`.\n",
      "  from ._conv import register_converters as _register_converters\n"
     ]
    }
   ],
   "source": [
    "# These are all the modules we'll be using later. Make sure you can import them\n",
    "# before proceeding further.\n",
    "from __future__ import print_function\n",
    "import numpy as np\n",
    "import tensorflow as tf\n",
    "from six.moves import cPickle as pickle"
   ]
  },
  {
   "cell_type": "markdown",
   "metadata": {
    "colab_type": "text",
    "id": "1HrCK6e17WzV"
   },
   "source": [
    "First reload the data we generated in `1_notmnist.ipynb`."
   ]
  },
  {
   "cell_type": "code",
   "execution_count": 2,
   "metadata": {
    "cellView": "both",
    "colab": {
     "autoexec": {
      "startup": false,
      "wait_interval": 0
     },
     "output_extras": [
      {
       "item_id": 1
      }
     ]
    },
    "colab_type": "code",
    "executionInfo": {
     "elapsed": 11777,
     "status": "ok",
     "timestamp": 1449849322348,
     "user": {
      "color": "",
      "displayName": "",
      "isAnonymous": false,
      "isMe": true,
      "permissionId": "",
      "photoUrl": "",
      "sessionId": "0",
      "userId": ""
     },
     "user_tz": 480
    },
    "id": "y3-cj1bpmuxc",
    "outputId": "e03576f1-ebbe-4838-c388-f1777bcc9873"
   },
   "outputs": [
    {
     "name": "stdout",
     "output_type": "stream",
     "text": [
      "Training set (200000, 28, 28) (200000,)\n",
      "Validation set (10000, 28, 28) (10000,)\n",
      "Test set (10000, 28, 28) (10000,)\n"
     ]
    }
   ],
   "source": [
    "pickle_file = 'notMNIST.pickle'\n",
    "\n",
    "with open(pickle_file, 'rb') as f:\n",
    "  save = pickle.load(f)\n",
    "  train_dataset = save['train_dataset']\n",
    "  train_labels = save['train_labels']\n",
    "  valid_dataset = save['valid_dataset']\n",
    "  valid_labels = save['valid_labels']\n",
    "  test_dataset = save['test_dataset']\n",
    "  test_labels = save['test_labels']\n",
    "  del save  # hint to help gc free up memory\n",
    "  print('Training set', train_dataset.shape, train_labels.shape)\n",
    "  print('Validation set', valid_dataset.shape, valid_labels.shape)\n",
    "  print('Test set', test_dataset.shape, test_labels.shape)"
   ]
  },
  {
   "cell_type": "markdown",
   "metadata": {
    "colab_type": "text",
    "id": "L7aHrm6nGDMB"
   },
   "source": [
    "Reformat into a shape that's more adapted to the models we're going to train:\n",
    "- data as a flat matrix,\n",
    "- labels as float 1-hot encodings."
   ]
  },
  {
   "cell_type": "code",
   "execution_count": 3,
   "metadata": {
    "cellView": "both",
    "colab": {
     "autoexec": {
      "startup": false,
      "wait_interval": 0
     },
     "output_extras": [
      {
       "item_id": 1
      }
     ]
    },
    "colab_type": "code",
    "executionInfo": {
     "elapsed": 11728,
     "status": "ok",
     "timestamp": 1449849322356,
     "user": {
      "color": "",
      "displayName": "",
      "isAnonymous": false,
      "isMe": true,
      "permissionId": "",
      "photoUrl": "",
      "sessionId": "0",
      "userId": ""
     },
     "user_tz": 480
    },
    "id": "IRSyYiIIGIzS",
    "outputId": "3f8996ee-3574-4f44-c953-5c8a04636582"
   },
   "outputs": [
    {
     "name": "stdout",
     "output_type": "stream",
     "text": [
      "Training set (200000, 784) (200000, 10)\n",
      "Validation set (10000, 784) (10000, 10)\n",
      "Test set (10000, 784) (10000, 10)\n"
     ]
    }
   ],
   "source": [
    "image_size = 28\n",
    "num_labels = 10\n",
    "\n",
    "def reformat(dataset, labels):\n",
    "  dataset = dataset.reshape((-1, image_size * image_size)).astype(np.float32)\n",
    "  # Map 1 to [0.0, 1.0, 0.0 ...], 2 to [0.0, 0.0, 1.0 ...]\n",
    "  labels = (np.arange(num_labels) == labels[:,None]).astype(np.float32)\n",
    "  return dataset, labels\n",
    "train_dataset, train_labels = reformat(train_dataset, train_labels)\n",
    "valid_dataset, valid_labels = reformat(valid_dataset, valid_labels)\n",
    "test_dataset, test_labels = reformat(test_dataset, test_labels)\n",
    "print('Training set', train_dataset.shape, train_labels.shape)\n",
    "print('Validation set', valid_dataset.shape, valid_labels.shape)\n",
    "print('Test set', test_dataset.shape, test_labels.shape)"
   ]
  },
  {
   "cell_type": "code",
   "execution_count": 4,
   "metadata": {
    "cellView": "both",
    "colab": {
     "autoexec": {
      "startup": false,
      "wait_interval": 0
     }
    },
    "colab_type": "code",
    "id": "RajPLaL_ZW6w"
   },
   "outputs": [],
   "source": [
    "def accuracy(predictions, labels):\n",
    "  return (100.0 * np.sum(np.argmax(predictions, 1) == np.argmax(labels, 1))\n",
    "          / predictions.shape[0])"
   ]
  },
  {
   "cell_type": "markdown",
   "metadata": {
    "colab_type": "text",
    "id": "sgLbUAQ1CW-1"
   },
   "source": [
    "---\n",
    "Problem 1\n",
    "---------\n",
    "\n",
    "Introduce and tune L2 regularization for both logistic and neural network models. Remember that L2 amounts to adding a penalty on the norm of the weights to the loss. In TensorFlow, you can compute the L2 loss for a tensor `t` using `nn.l2_loss(t)`. The right amount of regularization should improve your validation / test accuracy.\n",
    "\n",
    "---"
   ]
  },
  {
   "cell_type": "code",
   "execution_count": 33,
   "metadata": {},
   "outputs": [],
   "source": [
    "batch_size = 128\n",
    "reg_ = 0.01\n",
    "\n",
    "graph = tf.Graph()\n",
    "with graph.as_default():\n",
    "    tf_train_dataset = tf.placeholder(tf.float32, shape=(batch_size, image_size * image_size))\n",
    "    tf_train_labels = tf.placeholder(tf.float32, shape=(batch_size, num_labels))\n",
    "\n",
    "    w1 = tf.Variable(tf.truncated_normal([image_size * image_size, num_labels]))\n",
    "    b1 = tf.Variable(tf.zeros([num_labels]))\n",
    "    \n",
    "    l_out = tf.matmul(tf_train_dataset, w1) + b1\n",
    "    \n",
    "    loss = tf.reduce_mean(tf.nn.softmax_cross_entropy_with_logits(labels=tf_train_labels, logits=l_out) ) + reg_ * tf.nn.l2_loss(w1)\n",
    "    \n",
    "    optimizer = tf.train.GradientDescentOptimizer(0.1).minimize(loss)\n",
    "    \n",
    "    train_prediction = tf.nn.softmax(l_out)\n",
    "    \n",
    "        \n",
    "    tf_valid_dataset = tf.constant(valid_dataset)\n",
    "    tf_test_dataset = tf.constant(test_dataset)\n",
    "    \n",
    "    valid_prediction = tf.nn.softmax(tf.matmul(tf_valid_dataset, w1) + b1)\n",
    "    test_prediction = tf.nn.softmax(tf.matmul(tf_test_dataset, w1) + b1)\n",
    "    "
   ]
  },
  {
   "cell_type": "code",
   "execution_count": 34,
   "metadata": {},
   "outputs": [
    {
     "name": "stdout",
     "output_type": "stream",
     "text": [
      "Initialized\n",
      "Minibatch loss at step 0: 49.140015\n",
      "Minibatch accuracy: 7.8%\n",
      "Validation accuracy: 8.8%\n",
      "Minibatch loss at step 500: 12.315790\n",
      "Minibatch accuracy: 69.5%\n",
      "Validation accuracy: 72.8%\n",
      "Minibatch loss at step 1000: 4.551421\n",
      "Minibatch accuracy: 75.8%\n",
      "Validation accuracy: 77.2%\n",
      "Minibatch loss at step 1500: 2.084340\n",
      "Minibatch accuracy: 79.7%\n",
      "Validation accuracy: 80.3%\n",
      "Minibatch loss at step 2000: 1.257169\n",
      "Minibatch accuracy: 82.0%\n",
      "Validation accuracy: 81.8%\n",
      "Minibatch loss at step 2500: 1.040082\n",
      "Minibatch accuracy: 76.6%\n",
      "Validation accuracy: 82.4%\n",
      "Minibatch loss at step 3000: 0.801841\n",
      "Minibatch accuracy: 82.8%\n",
      "Validation accuracy: 82.5%\n",
      "Test accuracy: 89.5%\n"
     ]
    }
   ],
   "source": [
    "num_steps = 3001\n",
    "\n",
    "with tf.Session(graph=graph) as session:\n",
    "    tf.global_variables_initializer().run()\n",
    "    print(\"Initialized\")\n",
    "    for step in range(num_steps):\n",
    "        # Pick an offset within the training data, which has been randomized.\n",
    "        # Note: we could use better randomization across epochs.\n",
    "        offset = (step * batch_size) % (train_labels.shape[0] - batch_size)\n",
    "        # Generate a minibatch.\n",
    "        batch_data = train_dataset[offset:(offset + batch_size), :]\n",
    "        batch_labels = train_labels[offset:(offset + batch_size), :]\n",
    "        # Prepare a dictionary telling the session where to feed the minibatch.\n",
    "        # The key of the dictionary is the placeholder node of the graph to be fed,\n",
    "        # and the value is the numpy array to feed to it.\n",
    "        \n",
    "        feed_dict = {tf_train_dataset : batch_data, tf_train_labels : batch_labels}\n",
    "        _, l, predictions = session.run([optimizer, loss, train_prediction], feed_dict=feed_dict)\n",
    "        \n",
    "        if (step % 500 == 0):\n",
    "            print(\"Minibatch loss at step %d: %f\" % (step, l))\n",
    "            print(\"Minibatch accuracy: %.1f%%\" % accuracy(predictions, batch_labels))\n",
    "            print(\"Validation accuracy: %.1f%%\" % accuracy(valid_prediction.eval(), valid_labels))\n",
    "    print(\"Test accuracy: %.1f%%\" % accuracy(test_prediction.eval(), test_labels))"
   ]
  },
  {
   "cell_type": "code",
   "execution_count": 4,
   "metadata": {},
   "outputs": [],
   "source": [
    "n_hidden = 1024"
   ]
  },
  {
   "cell_type": "code",
   "execution_count": 25,
   "metadata": {},
   "outputs": [],
   "source": [
    "batch_size = 128\n",
    "reg_ = 0.008\n",
    "\n",
    "graph = tf.Graph()\n",
    "with graph.as_default():\n",
    "    tf_train_dataset = tf.placeholder(tf.float32, shape=(batch_size, image_size * image_size))\n",
    "    tf_train_labels = tf.placeholder(tf.float32, shape=(batch_size, num_labels))\n",
    "\n",
    "    w1 = tf.Variable(tf.truncated_normal([image_size * image_size, n_hidden]))\n",
    "    b1 = tf.Variable(tf.zeros([n_hidden]))\n",
    "\n",
    "    w2 = tf.Variable(tf.truncated_normal([n_hidden, num_labels]))\n",
    "    b2 = tf.Variable(tf.zeros([num_labels]))\n",
    "    \n",
    "    l_hidden = tf.nn.relu(tf.matmul(tf_train_dataset, w1) + b1)\n",
    "    l_out = tf.matmul(l_hidden, w2) + b2\n",
    "    \n",
    "    loss = tf.reduce_mean(tf.nn.softmax_cross_entropy_with_logits(labels=tf_train_labels, logits=l_out) ) + reg_ * (tf.nn.l2_loss(w1) + tf.nn.l2_loss(w2) )\n",
    "    \n",
    "    optimizer = tf.train.GradientDescentOptimizer(0.1).minimize(loss)\n",
    "    \n",
    "    train_prediction = tf.nn.softmax(l_out)\n",
    "    \n",
    "        \n",
    "    tf_valid_dataset = tf.constant(valid_dataset)\n",
    "    tf_test_dataset = tf.constant(test_dataset)\n",
    "    \n",
    "    valid_prediction = tf.nn.softmax(tf.matmul(tf.nn.relu(tf.matmul(tf_valid_dataset, w1) + b1), w2) + b2)\n",
    "    test_prediction = tf.nn.softmax(tf.matmul(tf.nn.relu(tf.matmul(tf_test_dataset, w1) + b1), w2) + b2)\n",
    "    "
   ]
  },
  {
   "cell_type": "code",
   "execution_count": 26,
   "metadata": {},
   "outputs": [
    {
     "name": "stdout",
     "output_type": "stream",
     "text": [
      "Initialized\n",
      "Minibatch loss at step 0: 2899.657715\n",
      "Minibatch accuracy: 7.0%\n",
      "Validation accuracy: 27.6%\n",
      "Minibatch loss at step 500: 1134.889038\n",
      "Minibatch accuracy: 74.2%\n",
      "Validation accuracy: 80.7%\n",
      "Minibatch loss at step 1000: 504.342712\n",
      "Minibatch accuracy: 85.2%\n",
      "Validation accuracy: 82.5%\n",
      "Minibatch loss at step 1500: 226.128876\n",
      "Minibatch accuracy: 78.9%\n",
      "Validation accuracy: 84.2%\n",
      "Minibatch loss at step 2000: 101.325371\n",
      "Minibatch accuracy: 87.5%\n",
      "Validation accuracy: 85.6%\n",
      "Minibatch loss at step 2500: 45.869400\n",
      "Minibatch accuracy: 84.4%\n",
      "Validation accuracy: 86.8%\n",
      "Minibatch loss at step 3000: 20.865299\n",
      "Minibatch accuracy: 87.5%\n",
      "Validation accuracy: 86.5%\n",
      "Test accuracy: 92.7%\n"
     ]
    }
   ],
   "source": [
    "num_steps = 3001\n",
    "\n",
    "with tf.Session(graph=graph) as session:\n",
    "    tf.global_variables_initializer().run()\n",
    "    print(\"Initialized\")\n",
    "    for step in range(num_steps):\n",
    "        # Pick an offset within the training data, which has been randomized.\n",
    "        # Note: we could use better randomization across epochs.\n",
    "        offset = (step * batch_size) % (train_labels.shape[0] - batch_size)\n",
    "        # Generate a minibatch.\n",
    "        batch_data = train_dataset[offset:(offset + batch_size), :]\n",
    "        batch_labels = train_labels[offset:(offset + batch_size), :]\n",
    "        # Prepare a dictionary telling the session where to feed the minibatch.\n",
    "        # The key of the dictionary is the placeholder node of the graph to be fed,\n",
    "        # and the value is the numpy array to feed to it.\n",
    "        \n",
    "        feed_dict = {tf_train_dataset : batch_data, tf_train_labels : batch_labels}\n",
    "        _, l, predictions = session.run([optimizer, loss, train_prediction], feed_dict=feed_dict)\n",
    "        \n",
    "        if (step % 500 == 0):\n",
    "            print(\"Minibatch loss at step %d: %f\" % (step, l))\n",
    "            print(\"Minibatch accuracy: %.1f%%\" % accuracy(predictions, batch_labels))\n",
    "            print(\"Validation accuracy: %.1f%%\" % accuracy(valid_prediction.eval(), valid_labels))\n",
    "    print(\"Test accuracy: %.1f%%\" % accuracy(test_prediction.eval(), test_labels))"
   ]
  },
  {
   "cell_type": "markdown",
   "metadata": {
    "colab_type": "text",
    "id": "na8xX2yHZzNF"
   },
   "source": [
    "---\n",
    "Problem 2\n",
    "---------\n",
    "Let's demonstrate an extreme case of overfitting. Restrict your training data to just a few batches. What happens?\n",
    "\n",
    "---"
   ]
  },
  {
   "cell_type": "code",
   "execution_count": 6,
   "metadata": {},
   "outputs": [],
   "source": [
    "def drawsamp(data, labels, n):\n",
    "    indices = np.random.choice(range(len(data)), size = n, replace=False, p=None)\n",
    "    return data[indices], labels[indices], indices"
   ]
  },
  {
   "cell_type": "code",
   "execution_count": 40,
   "metadata": {},
   "outputs": [],
   "source": [
    "train_data_samp, train_labels_samp, _samp = drawsamp(train_dataset, train_labels, 128 * 10)"
   ]
  },
  {
   "cell_type": "code",
   "execution_count": 58,
   "metadata": {},
   "outputs": [],
   "source": [
    "reg_ = 0.0"
   ]
  },
  {
   "cell_type": "code",
   "execution_count": 42,
   "metadata": {},
   "outputs": [
    {
     "name": "stdout",
     "output_type": "stream",
     "text": [
      "Initialized\n",
      "Minibatch loss at step 0: 313.404785\n",
      "Minibatch accuracy: 13.3%\n",
      "Validation accuracy: 29.2%\n",
      "Minibatch loss at step 500: 0.000000\n",
      "Minibatch accuracy: 100.0%\n",
      "Validation accuracy: 73.7%\n",
      "Minibatch loss at step 1000: 0.000000\n",
      "Minibatch accuracy: 100.0%\n",
      "Validation accuracy: 73.5%\n",
      "Minibatch loss at step 1500: 0.000001\n",
      "Minibatch accuracy: 100.0%\n",
      "Validation accuracy: 73.5%\n",
      "Minibatch loss at step 2000: 0.000000\n",
      "Minibatch accuracy: 100.0%\n",
      "Validation accuracy: 73.5%\n",
      "Minibatch loss at step 2500: 0.000000\n",
      "Minibatch accuracy: 100.0%\n",
      "Validation accuracy: 73.5%\n",
      "Minibatch loss at step 3000: 0.000000\n",
      "Minibatch accuracy: 100.0%\n",
      "Validation accuracy: 73.5%\n",
      "Test accuracy: 80.9%\n"
     ]
    }
   ],
   "source": [
    "num_steps = 3001\n",
    "\n",
    "with tf.Session(graph=graph) as session:\n",
    "    tf.global_variables_initializer().run()\n",
    "    print(\"Initialized\")\n",
    "    for step in range(num_steps):\n",
    "        # Pick an offset within the training data, which has been randomized.\n",
    "        # Note: we could use better randomization across epochs.\n",
    "        offset = (step * batch_size) % (train_labels_samp.shape[0] - batch_size)\n",
    "        # Generate a minibatch.\n",
    "        batch_data = train_data_samp[offset:(offset + batch_size), :]\n",
    "        batch_labels = train_labels_samp[offset:(offset + batch_size), :]\n",
    "        # Prepare a dictionary telling the session where to feed the minibatch.\n",
    "        # The key of the dictionary is the placeholder node of the graph to be fed,\n",
    "        # and the value is the numpy array to feed to it.\n",
    "        \n",
    "        feed_dict = {tf_train_dataset : batch_data, tf_train_labels : batch_labels}\n",
    "        _, l, predictions = session.run([optimizer, loss, train_prediction], feed_dict=feed_dict)\n",
    "        \n",
    "        if (step % 500 == 0):\n",
    "            print(\"Minibatch loss at step %d: %f\" % (step, l))\n",
    "            print(\"Minibatch accuracy: %.1f%%\" % accuracy(predictions, batch_labels))\n",
    "            print(\"Validation accuracy: %.1f%%\" % accuracy(valid_prediction.eval(), valid_labels))\n",
    "    print(\"Test accuracy: %.1f%%\" % accuracy(test_prediction.eval(), test_labels))"
   ]
  },
  {
   "cell_type": "markdown",
   "metadata": {},
   "source": [
    "Oleg:\n",
    "Minibatch loss = 0 and Minibatch accuracy = 100% tell us than the model has been ideally fitted to training set. However, Validation accuracy and Test accuracy are substantially lower on test and "
   ]
  },
  {
   "cell_type": "markdown",
   "metadata": {
    "colab_type": "text",
    "id": "ww3SCBUdlkRc"
   },
   "source": [
    "---\n",
    "Problem 3\n",
    "---------\n",
    "Introduce Dropout on the hidden layer of the neural network. Remember: Dropout should only be introduced during training, not evaluation, otherwise your evaluation results would be stochastic as well. TensorFlow provides `nn.dropout()` for that, but you have to make sure it's only inserted during training.\n",
    "\n",
    "What happens to our extreme overfitting case?\n",
    "\n",
    "---"
   ]
  },
  {
   "cell_type": "code",
   "execution_count": 56,
   "metadata": {},
   "outputs": [],
   "source": [
    "n_hidden = 1024\n",
    "batch_size = 128\n",
    "prob = 1/2\n",
    "\n",
    "graph = tf.Graph()\n",
    "with graph.as_default():\n",
    "    tf_train_dataset = tf.placeholder(tf.float32, shape=(batch_size, image_size * image_size))\n",
    "    tf_train_labels = tf.placeholder(tf.float32, shape=(batch_size, num_labels))\n",
    "\n",
    "    w1 = tf.Variable(tf.truncated_normal([image_size * image_size, n_hidden]))\n",
    "    b1 = tf.Variable(tf.zeros([n_hidden]))\n",
    "\n",
    "    w2 = tf.Variable(tf.truncated_normal([n_hidden, num_labels]))\n",
    "    b2 = tf.Variable(tf.zeros([num_labels]))\n",
    "    \n",
    "    l_hidden = tf.nn.relu(tf.matmul(tf_train_dataset, w1) + b1)\n",
    "    l_out = tf.matmul(tf.nn.dropout(l_hidden, keep_prob = prob), w2) + b2\n",
    "    \n",
    "    loss = tf.reduce_mean(tf.nn.softmax_cross_entropy_with_logits(labels=tf_train_labels, logits=l_out) )\n",
    "    \n",
    "    optimizer = tf.train.GradientDescentOptimizer(0.1).minimize(loss)\n",
    "    \n",
    "    train_prediction = tf.nn.softmax(l_out)\n",
    "    \n",
    "        \n",
    "    tf_valid_dataset = tf.constant(valid_dataset)\n",
    "    tf_test_dataset = tf.constant(test_dataset)\n",
    "    \n",
    "    valid_prediction = tf.nn.softmax(tf.matmul(tf.nn.relu(tf.matmul(tf_valid_dataset, w1) + b1), w2) + b2)\n",
    "    test_prediction = tf.nn.softmax(tf.matmul(tf.nn.relu(tf.matmul(tf_test_dataset, w1) + b1), w2) + b2)\n",
    "    "
   ]
  },
  {
   "cell_type": "code",
   "execution_count": 60,
   "metadata": {},
   "outputs": [],
   "source": [
    "train_data_samp, train_labels_samp, _samp = drawsamp(train_dataset, train_labels, 200000)"
   ]
  },
  {
   "cell_type": "code",
   "execution_count": 61,
   "metadata": {},
   "outputs": [
    {
     "name": "stdout",
     "output_type": "stream",
     "text": [
      "Initialized\n",
      "Minibatch loss at step 0: 549.196838\n",
      "Minibatch accuracy: 14.1%\n",
      "Validation accuracy: 24.5%\n",
      "Minibatch loss at step 500: 33.213791\n",
      "Minibatch accuracy: 78.1%\n",
      "Validation accuracy: 82.6%\n",
      "Minibatch loss at step 1000: 31.152176\n",
      "Minibatch accuracy: 77.3%\n",
      "Validation accuracy: 83.5%\n",
      "Minibatch loss at step 1500: 14.552491\n",
      "Minibatch accuracy: 74.2%\n",
      "Validation accuracy: 82.5%\n",
      "Minibatch loss at step 2000: 6.043719\n",
      "Minibatch accuracy: 79.7%\n",
      "Validation accuracy: 83.3%\n",
      "Minibatch loss at step 2500: 6.461442\n",
      "Minibatch accuracy: 78.9%\n",
      "Validation accuracy: 83.3%\n",
      "Minibatch loss at step 3000: 3.561191\n",
      "Minibatch accuracy: 83.6%\n",
      "Validation accuracy: 81.7%\n",
      "Test accuracy: 88.7%\n"
     ]
    }
   ],
   "source": [
    "num_steps = 3001\n",
    "\n",
    "with tf.Session(graph=graph) as session:\n",
    "    tf.global_variables_initializer().run()\n",
    "    print(\"Initialized\")\n",
    "    for step in range(num_steps):\n",
    "        # Pick an offset within the training data, which has been randomized.\n",
    "        # Note: we could use better randomization across epochs.\n",
    "        offset = (step * batch_size) % (train_labels_samp.shape[0] - batch_size)\n",
    "        # Generate a minibatch.\n",
    "        batch_data = train_data_samp[offset:(offset + batch_size), :]\n",
    "        batch_labels = train_labels_samp[offset:(offset + batch_size), :]\n",
    "        # Prepare a dictionary telling the session where to feed the minibatch.\n",
    "        # The key of the dictionary is the placeholder node of the graph to be fed,\n",
    "        # and the value is the numpy array to feed to it.\n",
    "        \n",
    "        feed_dict = {tf_train_dataset : batch_data, tf_train_labels : batch_labels}\n",
    "        _, l, predictions = session.run([optimizer, loss, train_prediction], feed_dict=feed_dict)\n",
    "        \n",
    "        if (step % 500 == 0):\n",
    "            print(\"Minibatch loss at step %d: %f\" % (step, l))\n",
    "            print(\"Minibatch accuracy: %.1f%%\" % accuracy(predictions, batch_labels))\n",
    "            print(\"Validation accuracy: %.1f%%\" % accuracy(valid_prediction.eval(), valid_labels))\n",
    "    print(\"Test accuracy: %.1f%%\" % accuracy(test_prediction.eval(), test_labels))"
   ]
  },
  {
   "cell_type": "markdown",
   "metadata": {},
   "source": [
    "Oleg: let's explore overfitting problem (below)"
   ]
  },
  {
   "cell_type": "code",
   "execution_count": 55,
   "metadata": {},
   "outputs": [],
   "source": [
    "train_data_samp, train_labels_samp, _samp = drawsamp(train_dataset, train_labels, 128 * 5)"
   ]
  },
  {
   "cell_type": "code",
   "execution_count": 57,
   "metadata": {},
   "outputs": [
    {
     "name": "stdout",
     "output_type": "stream",
     "text": [
      "Initialized\n",
      "Minibatch loss at step 0: 524.805786\n",
      "Minibatch accuracy: 11.7%\n",
      "Validation accuracy: 24.8%\n",
      "Minibatch loss at step 500: 0.117071\n",
      "Minibatch accuracy: 99.2%\n",
      "Validation accuracy: 78.4%\n",
      "Minibatch loss at step 1000: 0.165751\n",
      "Minibatch accuracy: 99.2%\n",
      "Validation accuracy: 78.0%\n",
      "Minibatch loss at step 1500: 0.380588\n",
      "Minibatch accuracy: 98.4%\n",
      "Validation accuracy: 78.7%\n",
      "Minibatch loss at step 2000: 0.000000\n",
      "Minibatch accuracy: 100.0%\n",
      "Validation accuracy: 78.4%\n",
      "Minibatch loss at step 2500: 0.000000\n",
      "Minibatch accuracy: 100.0%\n",
      "Validation accuracy: 78.6%\n",
      "Minibatch loss at step 3000: 0.000000\n",
      "Minibatch accuracy: 100.0%\n",
      "Validation accuracy: 78.4%\n",
      "Test accuracy: 85.9%\n"
     ]
    }
   ],
   "source": [
    "num_steps = 3001\n",
    "\n",
    "with tf.Session(graph=graph) as session:\n",
    "    tf.global_variables_initializer().run()\n",
    "    print(\"Initialized\")\n",
    "    for step in range(num_steps):\n",
    "        # Pick an offset within the training data, which has been randomized.\n",
    "        # Note: we could use better randomization across epochs.\n",
    "        offset = (step * batch_size) % (train_labels_samp.shape[0] - batch_size)\n",
    "        # Generate a minibatch.\n",
    "        batch_data = train_data_samp[offset:(offset + batch_size), :]\n",
    "        batch_labels = train_labels_samp[offset:(offset + batch_size), :]\n",
    "        # Prepare a dictionary telling the session where to feed the minibatch.\n",
    "        # The key of the dictionary is the placeholder node of the graph to be fed,\n",
    "        # and the value is the numpy array to feed to it.\n",
    "        \n",
    "        feed_dict = {tf_train_dataset : batch_data, tf_train_labels : batch_labels}\n",
    "        _, l, predictions = session.run([optimizer, loss, train_prediction], feed_dict=feed_dict)\n",
    "        \n",
    "        if (step % 500 == 0):\n",
    "            print(\"Minibatch loss at step %d: %f\" % (step, l))\n",
    "            print(\"Minibatch accuracy: %.1f%%\" % accuracy(predictions, batch_labels))\n",
    "            print(\"Validation accuracy: %.1f%%\" % accuracy(valid_prediction.eval(), valid_labels))\n",
    "    print(\"Test accuracy: %.1f%%\" % accuracy(test_prediction.eval(), test_labels))"
   ]
  },
  {
   "cell_type": "markdown",
   "metadata": {},
   "source": [
    "Oleg: Validation accuracy and Test accuracy are somewhat higher than with no reularization."
   ]
  },
  {
   "cell_type": "markdown",
   "metadata": {
    "colab_type": "text",
    "id": "-b1hTz3VWZjw"
   },
   "source": [
    "---\n",
    "Problem 4\n",
    "---------\n",
    "\n",
    "Try to get the best performance you can using a multi-layer model! The best reported test accuracy using a deep network is [97.1%](http://yaroslavvb.blogspot.com/2011/09/notmnist-dataset.html?showComment=1391023266211#c8758720086795711595).\n",
    "\n",
    "One avenue you can explore is to add multiple layers.\n",
    "\n",
    "Another one is to use learning rate decay:\n",
    "\n",
    "    global_step = tf.Variable(0)  # count the number of steps taken.\n",
    "    learning_rate = tf.train.exponential_decay(0.5, global_step, ...)\n",
    "    optimizer = tf.train.GradientDescentOptimizer(learning_rate).minimize(loss, global_step=global_step)\n",
    " \n",
    " ---\n"
   ]
  },
  {
   "cell_type": "code",
   "execution_count": 7,
   "metadata": {},
   "outputs": [],
   "source": [
    "train_data_samp, train_labels_samp, _samp = drawsamp(train_dataset, train_labels, 200*1000)"
   ]
  },
  {
   "cell_type": "code",
   "execution_count": 34,
   "metadata": {},
   "outputs": [],
   "source": [
    "n_hidden_1 = 64\n",
    "n_hidden_2 = 46\n",
    "n_hidden_3 = 32\n",
    "n_hidden_4 = 16\n",
    "n_hidden_5 = 16\n",
    "\n",
    "batch_size = 1024\n",
    "prob = 1/2\n",
    "\n",
    "graph = tf.Graph()\n",
    "with graph.as_default():\n",
    "    tf_train_dataset = tf.placeholder(tf.float32, shape=(batch_size, image_size * image_size))\n",
    "    tf_train_labels = tf.placeholder(tf.float32, shape=(batch_size, num_labels))\n",
    "\n",
    "    w1 = tf.Variable(tf.truncated_normal([image_size * image_size, n_hidden_1]))\n",
    "    b1 = tf.Variable(tf.zeros([n_hidden_1]))\n",
    "    \n",
    "    w2 = tf.Variable(tf.truncated_normal([n_hidden_1, n_hidden_2]))\n",
    "    b2 = tf.Variable(tf.zeros([n_hidden_2]))\n",
    "    \n",
    "    w3 = tf.Variable(tf.truncated_normal([n_hidden_2, n_hidden_3]))\n",
    "    b3 = tf.Variable(tf.zeros([n_hidden_3]))\n",
    "    \n",
    "    w4 = tf.Variable(tf.truncated_normal([n_hidden_3, n_hidden_4]))\n",
    "    b4 = tf.Variable(tf.zeros([n_hidden_4]))\n",
    "    \n",
    "    w5 = tf.Variable(tf.truncated_normal([n_hidden_4, n_hidden_5]))\n",
    "    b5 = tf.Variable(tf.zeros([n_hidden_5]))\n",
    "    \n",
    "    w6 = tf.Variable(tf.truncated_normal([n_hidden_5, num_labels]))\n",
    "    b6 = tf.Variable(tf.zeros([num_labels]))\n",
    "    \n",
    "    \n",
    "    def model(data):\n",
    "        hidden_1 = tf.tanh(tf.matmul(data, w1) + b1)\n",
    "        hidden_2 = tf.tanh(tf.matmul(tf.nn.dropout(hidden_1, keep_prob = prob), w2) + b2)\n",
    "        hidden_3 = tf.tanh(tf.matmul(tf.nn.dropout(hidden_2, keep_prob = prob), w3) + b3)\n",
    "        hidden_4 = tf.tanh(tf.matmul(tf.nn.dropout(hidden_3, keep_prob = 1), w4) + b4)\n",
    "        hidden_5 = tf.tanh(tf.matmul(tf.nn.dropout(hidden_4, keep_prob = 1), w5) + b5)\n",
    "        return tf.matmul(tf.nn.dropout(hidden_5, keep_prob = 1), w6) + b6\n",
    "    \n",
    "    train_out = model(tf_train_dataset)\n",
    "    \n",
    "    loss = tf.reduce_mean(tf.nn.softmax_cross_entropy_with_logits(labels=tf_train_labels, logits = train_out) )\n",
    "    \n",
    "    optimizer = tf.train.GradientDescentOptimizer(0.1).minimize(loss)\n",
    "    \n",
    "    train_prediction = tf.nn.softmax(train_out)\n",
    "    \n",
    "    tf_valid_dataset = tf.constant(valid_dataset)\n",
    "    tf_test_dataset = tf.constant(test_dataset)\n",
    "    \n",
    "    valid_prediction = tf.nn.softmax(model(tf_valid_dataset) )\n",
    "    test_prediction = tf.nn.softmax(model(tf_test_dataset) )"
   ]
  },
  {
   "cell_type": "code",
   "execution_count": 35,
   "metadata": {
    "scrolled": true
   },
   "outputs": [
    {
     "name": "stdout",
     "output_type": "stream",
     "text": [
      "Initialized\n",
      "Minibatch loss at step 0: 4.609995\n",
      "Minibatch accuracy: 10.5%\n",
      "Validation accuracy: 10.7%\n",
      "Minibatch loss at step 500: 2.344069\n",
      "Minibatch accuracy: 15.2%\n",
      "Validation accuracy: 15.8%\n",
      "Minibatch loss at step 1000: 2.186875\n",
      "Minibatch accuracy: 19.7%\n",
      "Validation accuracy: 19.5%\n",
      "Minibatch loss at step 1500: 2.133749\n",
      "Minibatch accuracy: 24.7%\n",
      "Validation accuracy: 23.8%\n",
      "Minibatch loss at step 2000: 2.024539\n",
      "Minibatch accuracy: 25.0%\n",
      "Validation accuracy: 27.5%\n",
      "Minibatch loss at step 2500: 1.943604\n",
      "Minibatch accuracy: 29.5%\n",
      "Validation accuracy: 29.8%\n",
      "Minibatch loss at step 3000: 1.834243\n",
      "Minibatch accuracy: 33.9%\n",
      "Validation accuracy: 33.1%\n",
      "Minibatch loss at step 3500: 1.841804\n",
      "Minibatch accuracy: 35.4%\n",
      "Validation accuracy: 35.2%\n",
      "Minibatch loss at step 4000: 1.753429\n",
      "Minibatch accuracy: 38.0%\n",
      "Validation accuracy: 37.7%\n",
      "Minibatch loss at step 4500: 1.746437\n",
      "Minibatch accuracy: 39.4%\n",
      "Validation accuracy: 38.8%\n",
      "Minibatch loss at step 5000: 1.730844\n",
      "Minibatch accuracy: 40.2%\n",
      "Validation accuracy: 40.4%\n",
      "Minibatch loss at step 5500: 1.591191\n",
      "Minibatch accuracy: 45.0%\n",
      "Validation accuracy: 43.1%\n",
      "Minibatch loss at step 6000: 1.610910\n",
      "Minibatch accuracy: 45.5%\n",
      "Validation accuracy: 45.1%\n",
      "Minibatch loss at step 6500: 1.565592\n",
      "Minibatch accuracy: 48.2%\n",
      "Validation accuracy: 46.2%\n",
      "Minibatch loss at step 7000: 1.544055\n",
      "Minibatch accuracy: 48.7%\n",
      "Validation accuracy: 48.9%\n",
      "Minibatch loss at step 7500: 1.533592\n",
      "Minibatch accuracy: 46.6%\n",
      "Validation accuracy: 49.3%\n",
      "Minibatch loss at step 8000: 1.594269\n",
      "Minibatch accuracy: 48.3%\n",
      "Validation accuracy: 50.9%\n",
      "Minibatch loss at step 8500: 1.492829\n",
      "Minibatch accuracy: 50.2%\n",
      "Validation accuracy: 52.0%\n",
      "Minibatch loss at step 9000: 1.483040\n",
      "Minibatch accuracy: 51.9%\n",
      "Validation accuracy: 53.0%\n",
      "Minibatch loss at step 9500: 1.369337\n",
      "Minibatch accuracy: 57.9%\n",
      "Validation accuracy: 54.4%\n",
      "Minibatch loss at step 10000: 1.338396\n",
      "Minibatch accuracy: 57.2%\n",
      "Validation accuracy: 55.9%\n",
      "Minibatch loss at step 10500: 1.438110\n",
      "Minibatch accuracy: 53.1%\n",
      "Validation accuracy: 56.7%\n",
      "Minibatch loss at step 11000: 1.347800\n",
      "Minibatch accuracy: 57.4%\n",
      "Validation accuracy: 56.9%\n",
      "Minibatch loss at step 11500: 1.255550\n",
      "Minibatch accuracy: 60.4%\n",
      "Validation accuracy: 58.1%\n",
      "Minibatch loss at step 12000: 1.337838\n",
      "Minibatch accuracy: 56.4%\n",
      "Validation accuracy: 58.9%\n",
      "Minibatch loss at step 12500: 1.298469\n",
      "Minibatch accuracy: 58.2%\n",
      "Validation accuracy: 59.5%\n",
      "Minibatch loss at step 13000: 1.338323\n",
      "Minibatch accuracy: 59.0%\n",
      "Validation accuracy: 60.6%\n",
      "Minibatch loss at step 13500: 1.274045\n",
      "Minibatch accuracy: 61.3%\n",
      "Validation accuracy: 61.1%\n",
      "Minibatch loss at step 14000: 1.187152\n",
      "Minibatch accuracy: 63.9%\n",
      "Validation accuracy: 61.8%\n",
      "Minibatch loss at step 14500: 1.245683\n",
      "Minibatch accuracy: 61.5%\n",
      "Validation accuracy: 62.4%\n",
      "Minibatch loss at step 15000: 1.167618\n",
      "Minibatch accuracy: 63.8%\n",
      "Validation accuracy: 63.4%\n",
      "Minibatch loss at step 15500: 1.134143\n",
      "Minibatch accuracy: 66.5%\n",
      "Validation accuracy: 62.4%\n",
      "Minibatch loss at step 16000: 1.214701\n",
      "Minibatch accuracy: 63.4%\n",
      "Validation accuracy: 63.0%\n",
      "Minibatch loss at step 16500: 1.174617\n",
      "Minibatch accuracy: 64.3%\n",
      "Validation accuracy: 64.7%\n",
      "Minibatch loss at step 17000: 1.157434\n",
      "Minibatch accuracy: 65.1%\n",
      "Validation accuracy: 65.0%\n",
      "Minibatch loss at step 17500: 1.134539\n",
      "Minibatch accuracy: 65.9%\n",
      "Validation accuracy: 65.5%\n",
      "Minibatch loss at step 18000: 1.092929\n",
      "Minibatch accuracy: 67.8%\n",
      "Validation accuracy: 65.0%\n",
      "Minibatch loss at step 18500: 1.156194\n",
      "Minibatch accuracy: 65.8%\n",
      "Validation accuracy: 65.8%\n",
      "Minibatch loss at step 19000: 1.179048\n",
      "Minibatch accuracy: 64.1%\n",
      "Validation accuracy: 66.2%\n",
      "Minibatch loss at step 19500: 1.087650\n",
      "Minibatch accuracy: 67.3%\n",
      "Validation accuracy: 67.0%\n",
      "Minibatch loss at step 20000: 1.173173\n",
      "Minibatch accuracy: 63.6%\n",
      "Validation accuracy: 66.9%\n",
      "Minibatch loss at step 20500: 1.153663\n",
      "Minibatch accuracy: 66.2%\n",
      "Validation accuracy: 67.0%\n",
      "Minibatch loss at step 21000: 1.128907\n",
      "Minibatch accuracy: 67.4%\n",
      "Validation accuracy: 67.4%\n",
      "Minibatch loss at step 21500: 1.158052\n",
      "Minibatch accuracy: 64.6%\n",
      "Validation accuracy: 68.0%\n",
      "Minibatch loss at step 22000: 1.149839\n",
      "Minibatch accuracy: 67.4%\n",
      "Validation accuracy: 68.1%\n",
      "Minibatch loss at step 22500: 1.097825\n",
      "Minibatch accuracy: 68.2%\n",
      "Validation accuracy: 68.6%\n",
      "Minibatch loss at step 23000: 1.113430\n",
      "Minibatch accuracy: 67.3%\n",
      "Validation accuracy: 69.0%\n",
      "Minibatch loss at step 23500: 1.111147\n",
      "Minibatch accuracy: 68.3%\n",
      "Validation accuracy: 68.8%\n",
      "Minibatch loss at step 24000: 1.007776\n",
      "Minibatch accuracy: 71.8%\n",
      "Validation accuracy: 69.9%\n",
      "Minibatch loss at step 24500: 1.029635\n",
      "Minibatch accuracy: 71.4%\n",
      "Validation accuracy: 69.5%\n",
      "Minibatch loss at step 25000: 1.038851\n",
      "Minibatch accuracy: 70.8%\n",
      "Validation accuracy: 70.0%\n",
      "Minibatch loss at step 25500: 1.008669\n",
      "Minibatch accuracy: 70.6%\n",
      "Validation accuracy: 70.0%\n",
      "Minibatch loss at step 26000: 0.968238\n",
      "Minibatch accuracy: 72.5%\n",
      "Validation accuracy: 70.5%\n",
      "Minibatch loss at step 26500: 1.045587\n",
      "Minibatch accuracy: 71.2%\n",
      "Validation accuracy: 70.6%\n",
      "Minibatch loss at step 27000: 1.007943\n",
      "Minibatch accuracy: 71.3%\n",
      "Validation accuracy: 70.8%\n",
      "Minibatch loss at step 27500: 1.091183\n",
      "Minibatch accuracy: 69.6%\n",
      "Validation accuracy: 70.7%\n",
      "Minibatch loss at step 28000: 1.026878\n",
      "Minibatch accuracy: 70.6%\n",
      "Validation accuracy: 71.5%\n",
      "Minibatch loss at step 28500: 1.021538\n",
      "Minibatch accuracy: 69.7%\n",
      "Validation accuracy: 71.9%\n",
      "Minibatch loss at step 29000: 0.942201\n",
      "Minibatch accuracy: 74.3%\n",
      "Validation accuracy: 72.3%\n",
      "Minibatch loss at step 29500: 0.967288\n",
      "Minibatch accuracy: 73.2%\n",
      "Validation accuracy: 71.7%\n",
      "Minibatch loss at step 30000: 0.983072\n",
      "Minibatch accuracy: 71.8%\n",
      "Validation accuracy: 72.4%\n",
      "Test accuracy: 79.0%\n"
     ]
    }
   ],
   "source": [
    "num_steps = 30001\n",
    "\n",
    "with tf.Session(graph=graph) as session:\n",
    "    tf.global_variables_initializer().run()\n",
    "    print(\"Initialized\")\n",
    "    for step in range(num_steps):\n",
    "        # Pick an offset within the training data, which has been randomized.\n",
    "        # Note: we could use better randomization across epochs.\n",
    "        offset = (step * batch_size) % (train_labels_samp.shape[0] - batch_size)\n",
    "        # Generate a minibatch.\n",
    "        batch_data = train_data_samp[offset:(offset + batch_size), :]\n",
    "        batch_labels = train_labels_samp[offset:(offset + batch_size), :]\n",
    "        # Prepare a dictionary telling the session where to feed the minibatch.\n",
    "        # The key of the dictionary is the placeholder node of the graph to be fed,\n",
    "        # and the value is the numpy array to feed to it.\n",
    "        \n",
    "        feed_dict = {tf_train_dataset : batch_data, tf_train_labels : batch_labels}\n",
    "        _, l, predictions = session.run([optimizer, loss, train_prediction], feed_dict=feed_dict)\n",
    "        \n",
    "        if (step % 500 == 0):\n",
    "            print(\"Minibatch loss at step %d: %f\" % (step, l))\n",
    "            print(\"Minibatch accuracy: %.1f%%\" % accuracy(predictions, batch_labels))\n",
    "            print(\"Validation accuracy: %.1f%%\" % accuracy(valid_prediction.eval(), valid_labels))\n",
    "    print(\"Test accuracy: %.1f%%\" % accuracy(test_prediction.eval(), test_labels))"
   ]
  }
 ],
 "metadata": {
  "colab": {
   "default_view": {},
   "name": "3_regularization.ipynb",
   "provenance": [],
   "version": "0.3.2",
   "views": {}
  },
  "kernelspec": {
   "display_name": "Python 3",
   "language": "python",
   "name": "python3"
  },
  "language_info": {
   "codemirror_mode": {
    "name": "ipython",
    "version": 3
   },
   "file_extension": ".py",
   "mimetype": "text/x-python",
   "name": "python",
   "nbconvert_exporter": "python",
   "pygments_lexer": "ipython3",
   "version": "3.6.5"
  }
 },
 "nbformat": 4,
 "nbformat_minor": 1
}
